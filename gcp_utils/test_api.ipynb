{
 "cells": [
  {
   "cell_type": "code",
   "execution_count": null,
   "metadata": {
    "vscode": {
     "languageId": "plaintext"
    }
   },
   "outputs": [],
   "source": [
    "import requests\n",
    "\n",
    "PUBLIC_IP = \"35.242.228.114\"\n",
    "\n",
    "# Define the URL of the API endpoint\n",
    "url = \"http://\"+PUBLIC_IP+\":5000/\"\n",
    "\n",
    "# Make a GET request to the URL\n",
    "response = requests.get(url)\n",
    "\n",
    "# Check if the request was successful\n",
    "if response.status_code == 200:\n",
    "    print(\"Request successful!\")\n",
    "    print(\"Response content:\", response.text)  # or response.text if it's not JSON\n",
    "else:\n",
    "    print(f\"Request failed with status code: {response.status_code}\")"
   ]
  }
 ],
 "metadata": {
  "language_info": {
   "name": "python"
  }
 },
 "nbformat": 4,
 "nbformat_minor": 2
}
